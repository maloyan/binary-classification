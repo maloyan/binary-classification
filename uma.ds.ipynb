{
 "cells": [
  {
   "cell_type": "code",
   "execution_count": 35,
   "metadata": {},
   "outputs": [
    {
     "name": "stdout",
     "output_type": "stream",
     "text": [
      "pandas: 0.24.2\n",
      "numpy: 1.16.1\n",
      "sklearn: 0.19.1\n",
      "\n",
      "lightgbm: 2.3.0\n",
      "xgboost: 0.80\n",
      "catboost: 0.16.5\n"
     ]
    }
   ],
   "source": [
    "import pandas as pd\n",
    "import numpy as np\n",
    "import lightgbm as lgb\n",
    "import xgboost as xgb\n",
    "import catboost as cb\n",
    "from catboost import CatBoostClassifier, Pool\n",
    "import random \n",
    "import seaborn as sns\n",
    "\n",
    "from os import listdir\n",
    "from tqdm import tqdm\n",
    "from os.path import isfile\n",
    "\n",
    "import sklearn\n",
    "from sklearn.metrics import roc_auc_score\n",
    "from sklearn.ensemble import RandomForestClassifier\n",
    "from sklearn.preprocessing import StandardScaler, MinMaxScaler \n",
    "from sklearn.model_selection import StratifiedKFold\n",
    "from sklearn.linear_model import LogisticRegression\n",
    "from sklearn.neighbors import KNeighborsClassifier\n",
    "from sklearn.svm import SVC\n",
    "from sklearn import preprocessing\n",
    "from sklearn.externals import joblib\n",
    "from sklearn.decomposition import TruncatedSVD\n",
    "from sklearn.model_selection import train_test_split\n",
    "\n",
    "from bayes_opt import BayesianOptimization\n",
    "from bayes_opt.observer import JSONLogger\n",
    "from bayes_opt.event import Events\n",
    "from bayes_opt.util import load_logs\n",
    "\n",
    "import warnings\n",
    "warnings.filterwarnings(\"ignore\")\n",
    "\n",
    "print(\"pandas:\", pd.__version__)\n",
    "print(\"numpy:\", np.__version__)\n",
    "print(\"sklearn:\", sklearn.__version__)\n",
    "print()\n",
    "print(\"lightgbm:\", lgb.__version__)\n",
    "print(\"xgboost:\", xgb.__version__)\n",
    "print(\"catboost:\", cb.__version__)\n"
   ]
  },
  {
   "cell_type": "code",
   "execution_count": 2,
   "metadata": {},
   "outputs": [],
   "source": [
    "train = pd.read_csv('./TRAIN_PREPARED.csv')\n",
    "train, val = train.iloc[:160000], train.iloc[160000:]\n",
    "test  = pd.read_csv('./TEST_PREPARED.csv')"
   ]
  },
  {
   "cell_type": "code",
   "execution_count": 3,
   "metadata": {},
   "outputs": [],
   "source": [
    "y = train.label.values\n",
    "y_val = val.label.values\n",
    "\n",
    "train = train.drop(['user', 'label'], axis=1)\n",
    "val   = val.drop(['user', 'label'], axis=1)\n",
    "test  = test.drop('user', axis=1)"
   ]
  },
  {
   "cell_type": "code",
   "execution_count": 4,
   "metadata": {},
   "outputs": [],
   "source": [
    "# Lets play with some dates\n",
    "def date2columns(data, date_col, suf):\n",
    "    data['Date'] = pd.to_datetime(pd.Series(data[date_col]))\n",
    "    data = data.drop(date_col, axis=1)\n",
    "\n",
    "    data[suf+'Year'] = data['Date'].apply(lambda x: int(str(x)[:4]))\n",
    "    data[suf+'Month'] = data['Date'].apply(lambda x: int(str(x)[5:7]))\n",
    "    data[suf+'weekday'] = data['Date'].dt.dayofweek\n",
    "    \n",
    "    data = data.drop('Date', axis=1)\n",
    "    return data"
   ]
  },
  {
   "cell_type": "code",
   "execution_count": 5,
   "metadata": {},
   "outputs": [],
   "source": [
    "train = date2columns(train, 'cut_date', 'cut_')\n",
    "train = date2columns(train, 'first_date', 'first_')\n",
    "train = date2columns(train, 'last_date', 'last_')\n",
    "\n",
    "val = date2columns(val, 'cut_date', 'cut_')\n",
    "val = date2columns(val, 'first_date', 'first_')\n",
    "val = date2columns(val, 'last_date', 'last_')\n",
    "\n",
    "test = date2columns(test, 'cut_date', 'cut_')\n",
    "test = date2columns(test, 'first_date', 'first_')\n",
    "test = date2columns(test, 'last_date', 'last_')"
   ]
  },
  {
   "cell_type": "code",
   "execution_count": 6,
   "metadata": {},
   "outputs": [
    {
     "name": "stderr",
     "output_type": "stream",
     "text": [
      "100%|██████████████████████████████████████████████████████████████████████████████| 150/150 [00:00<00:00, 4055.29it/s]\n"
     ]
    }
   ],
   "source": [
    "train = train.fillna(-1)\n",
    "val   = val.fillna(-1)\n",
    "test = test.fillna(-1)\n",
    "\n",
    "for f in tqdm(train.columns):\n",
    "    if train[f].dtype=='object':\n",
    "        lbl = preprocessing.LabelEncoder()\n",
    "        lbl.fit(list(train[f].values) + \n",
    "                list(val[f].values) +\n",
    "                list(test[f].values))\n",
    "        \n",
    "        train[f] = lbl.transform(list(train[f].values))\n",
    "        val[f] = lbl.transform(list(val[f].values))\n",
    "        test[f] = lbl.transform(list(test[f].values))\n",
    "        \n",
    "# train-test discrepancy analysis is skipped"
   ]
  },
  {
   "cell_type": "code",
   "execution_count": 7,
   "metadata": {},
   "outputs": [
    {
     "data": {
      "text/plain": [
       "(150,\n",
       " ['days_to_end',\n",
       "  'num_country_max_1days',\n",
       "  'num_city_max_1days',\n",
       "  'android_max_1days',\n",
       "  'smarttv_max_1days',\n",
       "  'iphone_max_1days',\n",
       "  'ipad_max_1days',\n",
       "  'apple_max_1days',\n",
       "  'pc_max_1days',\n",
       "  'time_spent_sum_3days',\n",
       "  'time_spent_max_3days',\n",
       "  'num_title_ep_sum_3days',\n",
       "  'num_title_ep_max_3days',\n",
       "  'num_title_ru_sum_3days',\n",
       "  'num_title_ru_max_3days',\n",
       "  'num_country_max_3days',\n",
       "  'num_city_max_3days',\n",
       "  'other_content_sum_3days',\n",
       "  'top_1_sum_3days',\n",
       "  'top_2_sum_3days',\n",
       "  'top_3_sum_3days',\n",
       "  'top_4_sum_3days',\n",
       "  'top_5_sum_3days',\n",
       "  'top_6_sum_3days',\n",
       "  'top_7_sum_3days',\n",
       "  'top_8_sum_3days',\n",
       "  'top_9_sum_3days',\n",
       "  'top_10_sum_3days',\n",
       "  'android_max_3days',\n",
       "  'smarttv_max_3days',\n",
       "  'iphone_max_3days',\n",
       "  'ipad_max_3days',\n",
       "  'apple_max_3days',\n",
       "  'pc_max_3days',\n",
       "  'time_spent_sum_7days',\n",
       "  'time_spent_max_7days',\n",
       "  'num_title_ep_sum_7days',\n",
       "  'num_title_ep_max_7days',\n",
       "  'num_title_ru_sum_7days',\n",
       "  'num_title_ru_max_7days',\n",
       "  'num_country_max_7days',\n",
       "  'num_city_max_7days',\n",
       "  'other_content_sum_7days',\n",
       "  'top_1_sum_7days',\n",
       "  'top_2_sum_7days',\n",
       "  'top_3_sum_7days',\n",
       "  'top_4_sum_7days',\n",
       "  'top_5_sum_7days',\n",
       "  'top_6_sum_7days',\n",
       "  'top_7_sum_7days',\n",
       "  'top_8_sum_7days',\n",
       "  'top_9_sum_7days',\n",
       "  'top_10_sum_7days',\n",
       "  'android_max_7days',\n",
       "  'smarttv_max_7days',\n",
       "  'iphone_max_7days',\n",
       "  'ipad_max_7days',\n",
       "  'apple_max_7days',\n",
       "  'pc_max_7days',\n",
       "  'time_spent_sum_14days',\n",
       "  'time_spent_max_14days',\n",
       "  'num_title_ep_sum_14days',\n",
       "  'num_title_ep_max_14days',\n",
       "  'num_title_ru_sum_14days',\n",
       "  'num_title_ru_max_14days',\n",
       "  'num_country_max_14days',\n",
       "  'num_city_max_14days',\n",
       "  'other_content_sum_14days',\n",
       "  'top_1_sum_14days',\n",
       "  'top_2_sum_14days',\n",
       "  'top_3_sum_14days',\n",
       "  'top_4_sum_14days',\n",
       "  'top_5_sum_14days',\n",
       "  'top_6_sum_14days',\n",
       "  'top_7_sum_14days',\n",
       "  'top_8_sum_14days',\n",
       "  'top_9_sum_14days',\n",
       "  'top_10_sum_14days',\n",
       "  'android_max_14days',\n",
       "  'smarttv_max_14days',\n",
       "  'iphone_max_14days',\n",
       "  'ipad_max_14days',\n",
       "  'apple_max_14days',\n",
       "  'pc_max_14days',\n",
       "  'time_spent_sum_21days',\n",
       "  'time_spent_max_21days',\n",
       "  'num_title_ep_sum_21days',\n",
       "  'num_title_ep_max_21days',\n",
       "  'num_title_ru_sum_21days',\n",
       "  'num_title_ru_max_21days',\n",
       "  'num_country_max_21days',\n",
       "  'num_city_max_21days',\n",
       "  'other_content_sum_21days',\n",
       "  'top_1_sum_21days',\n",
       "  'top_2_sum_21days',\n",
       "  'top_3_sum_21days',\n",
       "  'top_4_sum_21days',\n",
       "  'top_5_sum_21days',\n",
       "  'top_6_sum_21days',\n",
       "  'top_7_sum_21days',\n",
       "  'top_8_sum_21days',\n",
       "  'top_9_sum_21days',\n",
       "  'top_10_sum_21days',\n",
       "  'android_max_21days',\n",
       "  'smarttv_max_21days',\n",
       "  'iphone_max_21days',\n",
       "  'ipad_max_21days',\n",
       "  'apple_max_21days',\n",
       "  'pc_max_21days',\n",
       "  'time_spent_sum_30days',\n",
       "  'time_spent_max_30days',\n",
       "  'num_title_ep_sum_30days',\n",
       "  'num_title_ep_max_30days',\n",
       "  'num_title_ru_sum_30days',\n",
       "  'num_title_ru_max_30days',\n",
       "  'num_country_max_30days',\n",
       "  'num_city_max_30days',\n",
       "  'other_content_sum_30days',\n",
       "  'top_1_sum_30days',\n",
       "  'top_2_sum_30days',\n",
       "  'top_3_sum_30days',\n",
       "  'top_4_sum_30days',\n",
       "  'top_5_sum_30days',\n",
       "  'top_6_sum_30days',\n",
       "  'top_7_sum_30days',\n",
       "  'top_8_sum_30days',\n",
       "  'top_9_sum_30days',\n",
       "  'top_10_sum_30days',\n",
       "  'android_max_30days',\n",
       "  'smarttv_max_30days',\n",
       "  'iphone_max_30days',\n",
       "  'ipad_max_30days',\n",
       "  'apple_max_30days',\n",
       "  'pc_max_30days',\n",
       "  'activity_1to3',\n",
       "  'activity_1to7',\n",
       "  'activity_1to14',\n",
       "  'activity_7to14',\n",
       "  'activity_7to21',\n",
       "  'activity_7to30',\n",
       "  'activity_14to30',\n",
       "  'cut_Year',\n",
       "  'cut_Month',\n",
       "  'cut_weekday',\n",
       "  'first_Year',\n",
       "  'first_Month',\n",
       "  'first_weekday',\n",
       "  'last_Year',\n",
       "  'last_Month',\n",
       "  'last_weekday'])"
      ]
     },
     "execution_count": 7,
     "metadata": {},
     "output_type": "execute_result"
    }
   ],
   "source": [
    "cols = list(train.columns)\n",
    "len(cols), cols"
   ]
  },
  {
   "cell_type": "code",
   "execution_count": 8,
   "metadata": {},
   "outputs": [],
   "source": [
    "scaler = StandardScaler() #MinMaxScaler StandardScaler RobustScaler\n",
    "\n",
    "train[cols] = scaler.fit_transform(train[cols])\n",
    "val[cols] = scaler.transform(val[cols])\n",
    "test[cols] = scaler.transform(test[cols])"
   ]
  },
  {
   "cell_type": "code",
   "execution_count": 9,
   "metadata": {},
   "outputs": [
    {
     "data": {
      "text/plain": [
       "0.84199869443301"
      ]
     },
     "execution_count": 9,
     "metadata": {},
     "output_type": "execute_result"
    }
   ],
   "source": [
    "N = 35\n",
    "\n",
    "svd = TruncatedSVD(n_components=N, random_state=42)\n",
    "X = svd.fit_transform(train[cols], y)\n",
    "X_val = svd.transform(val[cols])\n",
    "X_test = svd.transform(test[cols])\n",
    "svd.explained_variance_ratio_.sum()"
   ]
  },
  {
   "cell_type": "code",
   "execution_count": 10,
   "metadata": {},
   "outputs": [
    {
     "name": "stdout",
     "output_type": "stream",
     "text": [
      "160000 160000 20249 20249\n"
     ]
    }
   ],
   "source": [
    "print(len(X), len(y), len(X_val), len(y_val))"
   ]
  },
  {
   "cell_type": "code",
   "execution_count": 11,
   "metadata": {},
   "outputs": [
    {
     "name": "stdout",
     "output_type": "stream",
     "text": [
      "0 ROC AUC: 0.9081\n",
      "1 ROC AUC: 0.91132\n",
      "2 ROC AUC: 0.90754\n",
      "3 ROC AUC: 0.90473\n",
      "4 ROC AUC: 0.91114\n",
      "\n",
      "OOF ROC AUC: 0.90856\n",
      "\n",
      "Wall time: 5min 55s\n"
     ]
    }
   ],
   "source": [
    "%%time\n",
    "\n",
    "skf = StratifiedKFold(n_splits=5, shuffle=True, random_state=42)\n",
    "arch = \"nei\"\n",
    "\n",
    "train[arch] = 0\n",
    "#test[arch] = 0\n",
    "\n",
    "for i, (train_index, valid_index) in enumerate(skf.split(X, y)):\n",
    "    \n",
    "    X_train = X[train_index]\n",
    "    X_valid = X[valid_index]\n",
    "\n",
    "    y_train = y[train_index]\n",
    "    y_valid = y[valid_index]\n",
    "    \n",
    "    nei = KNeighborsClassifier(n_neighbors=2,\n",
    "                               p=1, n_jobs=-1).fit(X_train, y_train) \n",
    "    \n",
    "    y_pred = nei.predict_proba(X_valid)[:,1]\n",
    "    \n",
    "    train.loc[valid_index, arch] = y_pred\n",
    "    print(i, \"ROC AUC:\", round(roc_auc_score(y_valid, y_pred), 5))\n",
    "    \n",
    "test[arch] = nei.predict_proba(X_test)[:,1]\n",
    "val[arch]  = nei.predict_proba(X_val)[:, 1]\n",
    "\n",
    "print()\n",
    "print(\"OOF ROC AUC:\", round(roc_auc_score(y, train[arch]), 5))\n",
    "print()"
   ]
  },
  {
   "cell_type": "code",
   "execution_count": 12,
   "metadata": {},
   "outputs": [
    {
     "name": "stdout",
     "output_type": "stream",
     "text": [
      "0 ROC AUC: 0.92359\n",
      "1 ROC AUC: 0.92281\n",
      "2 ROC AUC: 0.92264\n",
      "3 ROC AUC: 0.92558\n",
      "4 ROC AUC: 0.92385\n",
      "\n",
      "OOF ROC AUC: 0.92369\n",
      "\n",
      "Wall time: 3min 29s\n"
     ]
    }
   ],
   "source": [
    "%%time\n",
    "\n",
    "skf = StratifiedKFold(n_splits=5, shuffle=True, random_state=42)\n",
    "arch = \"rfc\"\n",
    "\n",
    "train[arch] = 0\n",
    "\n",
    "for i, (train_index, valid_index) in enumerate(skf.split(X, y)):\n",
    "    \n",
    "    X_train = X[train_index]\n",
    "    X_valid = X[valid_index]\n",
    "\n",
    "    y_train = y[train_index]\n",
    "    y_valid = y[valid_index]\n",
    "    \n",
    "    rfc = RandomForestClassifier(n_estimators=150,\n",
    "                                 criterion='gini',\n",
    "                                 n_jobs=-1).fit(X_train, y_train) \n",
    "    \n",
    "    y_pred = rfc.predict_proba(X_valid)[:,1]\n",
    "    train.loc[valid_index, arch] = y_pred\n",
    "    print(i, \"ROC AUC:\", round(roc_auc_score(y_valid, y_pred), 5))\n",
    "\n",
    "test[arch] = rfc.predict_proba(X_test)[:,1]\n",
    "val[arch]  = rfc.predict_proba(X_val)[:, 1]\n",
    "\n",
    "print()\n",
    "print(\"OOF ROC AUC:\", round(roc_auc_score(y, train[arch]), 5))\n",
    "print()"
   ]
  },
  {
   "cell_type": "code",
   "execution_count": 13,
   "metadata": {},
   "outputs": [
    {
     "name": "stdout",
     "output_type": "stream",
     "text": [
      "0 ROC AUC: 0.91523\n",
      "1 ROC AUC: 0.91995\n",
      "2 ROC AUC: 0.91846\n",
      "3 ROC AUC: 0.92162\n",
      "4 ROC AUC: 0.92053\n",
      "\n",
      "OOF ROC AUC: 0.91909\n",
      "\n",
      "Wall time: 15min 21s\n"
     ]
    }
   ],
   "source": [
    "%%time\n",
    "\n",
    "arch = \"lgb\"\n",
    "\n",
    "train[arch] = 0\n",
    "\n",
    "rounds = 10000\n",
    "early_stop_rounds = 300\n",
    "\n",
    "params = {'objective': 'binary',\n",
    "          'boosting_type': 'gbrt',\n",
    "          'metric': 'auc',\n",
    "          'seed': 42,\n",
    "          'max_depth': 8,\n",
    "          'leraning_rate': 0.05,\n",
    "          'bagging_freq': 1,\n",
    "          'bagging_fraction': 0.9,\n",
    "          'bagging_seed': 42,\n",
    "          'verbose': -1,\n",
    "          'n_jobs': -1}\n",
    "\n",
    "skf = StratifiedKFold(n_splits=5, shuffle=True, random_state=42)\n",
    "\n",
    "for i, (train_index, valid_index) in enumerate(skf.split(X, y)):\n",
    "    \n",
    "    X_train = X[train_index]\n",
    "    X_valid = X[valid_index]\n",
    "\n",
    "    y_train = y[train_index]\n",
    "    y_valid = y[valid_index]\n",
    "\n",
    "    d_train = lgb.Dataset(X_train, y_train)\n",
    "    d_valid = lgb.Dataset(X_valid, y_valid)    \n",
    "\n",
    "    model = lgb.train(params,\n",
    "                      d_train,\n",
    "                      num_boost_round=rounds,\n",
    "                      valid_sets=[d_train, d_valid],\n",
    "                      valid_names=['train','valid'],\n",
    "                      early_stopping_rounds=early_stop_rounds,\n",
    "                      verbose_eval=0) \n",
    "\n",
    "    joblib.dump(model, \"./output/lgb_\"+str(i)+\".pkl\")\n",
    "\n",
    "    y_pred = model.predict(X_valid)\n",
    "    train.loc[valid_index, arch] = y_pred\n",
    "    auc = roc_auc_score(y_valid, y_pred)\n",
    "    print(i, \"ROC AUC:\", round(auc, 5))\n",
    "\n",
    "test[arch] = model.predict(X_test)\n",
    "val[arch]  = model.predict(X_val)\n",
    "\n",
    "print()\n",
    "print(\"OOF ROC AUC:\", round(roc_auc_score(y, train[arch]), 5))\n",
    "print()"
   ]
  },
  {
   "cell_type": "code",
   "execution_count": 15,
   "metadata": {},
   "outputs": [
    {
     "name": "stdout",
     "output_type": "stream",
     "text": [
      "0 ROC AUC: 0.92703\n",
      "1 ROC AUC: 0.92829\n",
      "2 ROC AUC: 0.92786\n",
      "3 ROC AUC: 0.93126\n",
      "4 ROC AUC: 0.93189\n",
      "\n",
      "OOF ROC AUC: 0.92926\n",
      "\n",
      "Wall time: 18min 58s\n"
     ]
    }
   ],
   "source": [
    "%%time\n",
    "\n",
    "arch = \"cat\"\n",
    "\n",
    "train[arch] = 0\n",
    "\n",
    "rounds = 10000\n",
    "early_stop_rounds = 100\n",
    "\n",
    "params = {'task_type': 'GPU', #GPU\n",
    "          'iterations': rounds,\n",
    "          'loss_function': 'Logloss',\n",
    "          'eval_metric':'AUC',\n",
    "          'random_seed': 42,\n",
    "          'learning_rate': 0.02,\n",
    "          'depth': 9}\n",
    "\n",
    "skf = StratifiedKFold(n_splits=5, shuffle=True, random_state=42)\n",
    "\n",
    "for i, (train_index, valid_index) in enumerate(skf.split(X, y)):\n",
    "    \n",
    "    X_train = X[train_index]\n",
    "    X_valid = X[valid_index]\n",
    "\n",
    "    y_train = y[train_index]\n",
    "    y_valid = y[valid_index]\n",
    "    \n",
    "    trn_data = Pool(X_train, y_train)\n",
    "    val_data = Pool(X_valid, y_valid)\n",
    "    \n",
    "    clf = CatBoostClassifier(**params)\n",
    "    clf.fit(trn_data,\n",
    "            eval_set=val_data,\n",
    "            use_best_model=True,\n",
    "            early_stopping_rounds=early_stop_rounds,\n",
    "            verbose=0)\n",
    "    \n",
    "    y_pred = clf.predict_proba(X_valid)[:, 1]\n",
    "    train.loc[valid_index, arch] = y_pred\n",
    "    auc = roc_auc_score(y_valid, y_pred)\n",
    "    print(i, \"ROC AUC:\", round(auc, 5))\n",
    "\n",
    "test[arch] = clf.predict_proba(X_test)[:,1]\n",
    "val[arch]  = clf.predict_proba(X_val)[:, 1]\n",
    "\n",
    "print()\n",
    "print(\"OOF ROC AUC:\", round(roc_auc_score(y, train[arch]), 5))\n",
    "print()"
   ]
  },
  {
   "cell_type": "code",
   "execution_count": 36,
   "metadata": {},
   "outputs": [
    {
     "data": {
      "text/html": [
       "<div>\n",
       "<style scoped>\n",
       "    .dataframe tbody tr th:only-of-type {\n",
       "        vertical-align: middle;\n",
       "    }\n",
       "\n",
       "    .dataframe tbody tr th {\n",
       "        vertical-align: top;\n",
       "    }\n",
       "\n",
       "    .dataframe thead th {\n",
       "        text-align: right;\n",
       "    }\n",
       "</style>\n",
       "<table border=\"1\" class=\"dataframe\">\n",
       "  <thead>\n",
       "    <tr style=\"text-align: right;\">\n",
       "      <th></th>\n",
       "      <th>cat</th>\n",
       "      <th>nei</th>\n",
       "      <th>rfc</th>\n",
       "      <th>lgb</th>\n",
       "    </tr>\n",
       "  </thead>\n",
       "  <tbody>\n",
       "    <tr>\n",
       "      <th>cat</th>\n",
       "      <td>1.000000</td>\n",
       "      <td>0.775267</td>\n",
       "      <td>0.917605</td>\n",
       "      <td>0.948069</td>\n",
       "    </tr>\n",
       "    <tr>\n",
       "      <th>nei</th>\n",
       "      <td>0.775267</td>\n",
       "      <td>1.000000</td>\n",
       "      <td>0.752849</td>\n",
       "      <td>0.754732</td>\n",
       "    </tr>\n",
       "    <tr>\n",
       "      <th>rfc</th>\n",
       "      <td>0.917605</td>\n",
       "      <td>0.752849</td>\n",
       "      <td>1.000000</td>\n",
       "      <td>0.898531</td>\n",
       "    </tr>\n",
       "    <tr>\n",
       "      <th>lgb</th>\n",
       "      <td>0.948069</td>\n",
       "      <td>0.754732</td>\n",
       "      <td>0.898531</td>\n",
       "      <td>1.000000</td>\n",
       "    </tr>\n",
       "  </tbody>\n",
       "</table>\n",
       "</div>"
      ],
      "text/plain": [
       "          cat       nei       rfc       lgb\n",
       "cat  1.000000  0.775267  0.917605  0.948069\n",
       "nei  0.775267  1.000000  0.752849  0.754732\n",
       "rfc  0.917605  0.752849  1.000000  0.898531\n",
       "lgb  0.948069  0.754732  0.898531  1.000000"
      ]
     },
     "execution_count": 36,
     "metadata": {},
     "output_type": "execute_result"
    }
   ],
   "source": [
    "models = [\"cat\", \"nei\", \"rfc\", \"lgb\"]\n",
    "\n",
    "train[models].corr()"
   ]
  },
  {
   "cell_type": "code",
   "execution_count": 18,
   "metadata": {},
   "outputs": [
    {
     "name": "stdout",
     "output_type": "stream",
     "text": [
      "0 ROC AUC: 0.95469\n",
      "1 ROC AUC: 0.95528\n",
      "2 ROC AUC: 0.95296\n",
      "3 ROC AUC: 0.95429\n",
      "4 ROC AUC: 0.95687\n",
      "\n",
      "OOF ROC AUC: 0.95479\n",
      "\n",
      "Wall time: 8.14 s\n"
     ]
    }
   ],
   "source": [
    "%%time\n",
    "\n",
    "skf = StratifiedKFold(n_splits=5, shuffle=True, random_state=42)\n",
    "arch = \"stack\"\n",
    "\n",
    "train[arch] = 0\n",
    "\n",
    "for i, (train_index, valid_index) in enumerate(skf.split(X, y)):\n",
    "    \n",
    "    X_train = train.loc[train_index, models]\n",
    "    X_valid = train.loc[valid_index, models]\n",
    "\n",
    "    y_train = y[train_index]\n",
    "    y_valid = y[valid_index]\n",
    "    \n",
    "    reg = LogisticRegression(C=1,\n",
    "                             solver=\"newton-cg\", \n",
    "                             penalty=\"l2\", \n",
    "                             n_jobs=-1, \n",
    "                             max_iter=100).fit(X_train, y_train) \n",
    "    \n",
    "    y_pred = reg.predict_proba(X_valid)[:,1]\n",
    "    train.loc[valid_index, arch] = y_pred\n",
    "    print(i, \"ROC AUC:\", round(roc_auc_score(y_valid, y_pred), 5))\n",
    "    \n",
    "test[arch] = reg.predict_proba(test[models])[:, 1]\n",
    "val[arch]  = reg.predict_proba(val[models])[:, 1]\n",
    "\n",
    "print()\n",
    "print(\"OOF ROC AUC:\", round(roc_auc_score(y, train[arch]), 5))\n",
    "print()"
   ]
  },
  {
   "cell_type": "code",
   "execution_count": 37,
   "metadata": {},
   "outputs": [
    {
     "name": "stdout",
     "output_type": "stream",
     "text": [
      "Coefs: [30.89891505 27.74102466 34.71556724  6.64449306]\n",
      "Validation score: 0.95551\n"
     ]
    }
   ],
   "source": [
    "print('Coefs:', reg.coef_[0]/np.sum(reg.coef_[0])*100)\n",
    "print('Validation score:', round(roc_auc_score(y_val, val['stack']), 5))"
   ]
  },
  {
   "cell_type": "code",
   "execution_count": 34,
   "metadata": {},
   "outputs": [
    {
     "name": "stderr",
     "output_type": "stream",
     "text": [
      "C:\\Users\\narek\\Anaconda3\\lib\\site-packages\\matplotlib\\axes\\_axes.py:6521: MatplotlibDeprecationWarning: \n",
      "The 'normed' kwarg was deprecated in Matplotlib 2.1 and will be removed in 3.1. Use 'density' instead.\n",
      "  alternative=\"'density'\", removal=\"3.1\")\n"
     ]
    },
    {
     "data": {
      "text/plain": [
       "<matplotlib.axes._subplots.AxesSubplot at 0x2ae84931400>"
      ]
     },
     "execution_count": 34,
     "metadata": {},
     "output_type": "execute_result"
    },
    {
     "data": {
      "image/png": "[encoded data removed]",
      "text/plain": [
       "<Figure size 432x288 with 1 Axes>"
      ]
     },
     "metadata": {},
     "output_type": "display_data"
    }
   ],
   "source": [
    "sns.distplot(train['stack'])"
   ]
  },
  {
   "cell_type": "code",
   "execution_count": 25,
   "metadata": {},
   "outputs": [
    {
     "name": "stderr",
     "output_type": "stream",
     "text": [
      "C:\\Users\\narek\\Anaconda3\\lib\\site-packages\\matplotlib\\axes\\_axes.py:6521: MatplotlibDeprecationWarning: \n",
      "The 'normed' kwarg was deprecated in Matplotlib 2.1 and will be removed in 3.1. Use 'density' instead.\n",
      "  alternative=\"'density'\", removal=\"3.1\")\n"
     ]
    },
    {
     "data": {
      "text/plain": [
       "<matplotlib.axes._subplots.AxesSubplot at 0x2ae83d86390>"
      ]
     },
     "execution_count": 25,
     "metadata": {},
     "output_type": "execute_result"
    },
    {
     "data": {
      "image/png": "[encoded data removed]",
      "text/plain": [
       "<Figure size 432x288 with 1 Axes>"
      ]
     },
     "metadata": {},
     "output_type": "display_data"
    }
   ],
   "source": [
    "sns.distplot(test['stack'])"
   ]
  },
  {
   "cell_type": "code",
   "execution_count": 27,
   "metadata": {},
   "outputs": [],
   "source": [
    "submit = pd.read_csv('./test_submit_example.csv')\n",
    "submit['prediction'] = test['stack']\n",
    "submit.head()"
   ]
  },
  {
   "cell_type": "code",
   "execution_count": 32,
   "metadata": {},
   "outputs": [],
   "source": [
    "submit.to_csv('./submission.csv')"
   ]
  }
 ],
 "metadata": {
  "kernelspec": {
   "display_name": "Python 3",
   "language": "python",
   "name": "python3"
  },
  "language_info": {
   "codemirror_mode": {
    "name": "ipython",
    "version": 3
   },
   "file_extension": ".py",
   "mimetype": "text/x-python",
   "name": "python",
   "nbconvert_exporter": "python",
   "pygments_lexer": "ipython3",
   "version": "3.6.5"
  }
 },
 "nbformat": 4,
 "nbformat_minor": 2
}
